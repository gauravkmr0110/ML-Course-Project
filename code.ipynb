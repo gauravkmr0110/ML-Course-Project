{
  "nbformat": 4,
  "nbformat_minor": 0,
  "metadata": {
    "colab": {
      "name": "B19CSE033_B19CSE032.ipynb",
      "provenance": [],
      "collapsed_sections": []
    },
    "kernelspec": {
      "display_name": "Python 3",
      "language": "python",
      "name": "python3"
    },
    "language_info": {
      "codemirror_mode": {
        "name": "ipython",
        "version": 3
      },
      "file_extension": ".py",
      "mimetype": "text/x-python",
      "name": "python",
      "nbconvert_exporter": "python",
      "pygments_lexer": "ipython3",
      "version": "3.8.3"
    }
  },
  "cells": [
    {
      "cell_type": "markdown",
      "metadata": {
        "id": "MMYphIA_ihfr"
      },
      "source": [
        "Importing Required Libraries\n"
      ]
    },
    {
      "cell_type": "code",
      "metadata": {
        "id": "wPMBKEmxvSAt"
      },
      "source": [
        "import numpy as np\n",
        "import pandas as pd\n",
        "import matplotlib.pyplot as plt\n",
        "import pickle\n",
        "import seaborn as sns \n",
        "\n",
        "from sklearn.preprocessing import StandardScaler\n",
        "from sklearn.metrics import classification_report, confusion_matrix, accuracy_score\n",
        "from sklearn.model_selection import cross_val_score\n",
        "from sklearn.decomposition import PCA\n",
        "from sklearn.discriminant_analysis import LinearDiscriminantAnalysis\n",
        "from sklearn.naive_bayes import GaussianNB\n",
        "from sklearn.linear_model import LogisticRegression\n",
        "from sklearn.ensemble import RandomForestClassifier"
      ],
      "execution_count": null,
      "outputs": []
    },
    {
      "cell_type": "code",
      "metadata": {
        "id": "7yxXSYiDuuY9",
        "colab": {
          "base_uri": "https://localhost:8080/"
        },
        "outputId": "34c7d04e-b490-4ba5-8eb9-4740802eddcd"
      },
      "source": [
        "from google.colab import drive\n",
        "drive.mount('/content/drive')"
      ],
      "execution_count": null,
      "outputs": [
        {
          "output_type": "stream",
          "text": [
            "Drive already mounted at /content/drive; to attempt to forcibly remount, call drive.mount(\"/content/drive\", force_remount=True).\n"
          ],
          "name": "stdout"
        }
      ]
    },
    {
      "cell_type": "code",
      "metadata": {
        "id": "bYxO5pGOurxZ"
      },
      "source": [
        "def unpickle(file):\n",
        "    with open(file, 'rb') as fo:\n",
        "        data = pickle.load(fo, encoding='bytes')\n",
        "    return data"
      ],
      "execution_count": null,
      "outputs": []
    },
    {
      "cell_type": "code",
      "metadata": {
        "id": "AeQxJ3Tju8T8"
      },
      "source": [
        "file_1 = unpickle('/content/drive/MyDrive/priject1/ml project/data_batch_1')\n",
        "file_2 = unpickle('/content/drive/MyDrive/priject1/ml project/data_batch_2')\n",
        "file_3 = unpickle('/content/drive/MyDrive/priject1/ml project/data_batch_3')\n",
        "file_4 = unpickle('/content/drive/MyDrive/priject1/ml project/data_batch_4')\n",
        "file_5 = unpickle('/content/drive/MyDrive/priject1/ml project/data_batch_5')\n",
        "test_ar = unpickle('/content/drive/MyDrive/priject1/ml project/test_batch')"
      ],
      "execution_count": null,
      "outputs": []
    },
    {
      "cell_type": "code",
      "metadata": {
        "colab": {
          "base_uri": "https://localhost:8080/"
        },
        "id": "pnBIxuDFu8Qi",
        "outputId": "adac29b7-f7c9-4589-991e-7d06b25ef483"
      },
      "source": [
        "meta_data = unpickle('/content/drive/MyDrive/priject1/ml project/batches.meta')\n",
        "label_names = meta_data[b'label_names']\n",
        "label_names = np.array(label_names)\n",
        "label_names"
      ],
      "execution_count": null,
      "outputs": [
        {
          "output_type": "execute_result",
          "data": {
            "text/plain": [
              "array([b'airplane', b'automobile', b'bird', b'cat', b'deer', b'dog',\n",
              "       b'frog', b'horse', b'ship', b'truck'], dtype='|S10')"
            ]
          },
          "metadata": {
            "tags": []
          },
          "execution_count": 5
        }
      ]
    },
    {
      "cell_type": "code",
      "metadata": {
        "id": "F-FyaLGGu8ON"
      },
      "source": [
        "df1 = pd.DataFrame(file_1[b'data'])\n",
        "df1['label'] = file_1[b'labels'] \n",
        "\n",
        "df2 = pd.DataFrame(file_2[b'data'])\n",
        "df2['label'] = file_2[b'labels'] \n",
        "\n",
        "df3 = pd.DataFrame(file_3[b'data'])\n",
        "df3['label'] = file_3[b'labels'] \n",
        "\n",
        "df4 = pd.DataFrame(file_4[b'data'])\n",
        "df4['label'] = file_4[b'labels'] \n",
        "\n",
        "df5 = pd.DataFrame(file_5[b'data'])\n",
        "df5['label'] = file_5[b'labels'] \n",
        "\n",
        "test = pd.DataFrame(test_ar[b'data'])\n",
        "test['label'] = test_ar[b'labels'] "
      ],
      "execution_count": null,
      "outputs": []
    },
    {
      "cell_type": "code",
      "metadata": {
        "id": "1wE04p21u8Lt"
      },
      "source": [
        "frames_concat = [df1, df2, df3, df4, df5]\n",
        "train = pd.concat(frames_concat)"
      ],
      "execution_count": null,
      "outputs": []
    },
    {
      "cell_type": "code",
      "metadata": {
        "id": "FGS9tcRQvj-d"
      },
      "source": [
        "X_train = train.drop(['label'], axis = 1)\n",
        "y_train = train['label']\n",
        "X_test = test.drop(['label'], axis = 1)\n",
        "y_test = test['label']"
      ],
      "execution_count": null,
      "outputs": []
    },
    {
      "cell_type": "code",
      "metadata": {
        "colab": {
          "base_uri": "https://localhost:8080/"
        },
        "id": "YKLDNF8karbU",
        "outputId": "a6cabf85-cd56-4192-afab-514528fc062c"
      },
      "source": [
        "print('Shape of X_train is ',X_train.shape)\n",
        "print('Shape of y_train is ',y_train.shape)\n",
        "print('Shape of X_test is ',X_test.shape)\n",
        "print('Shape of y_test is ',y_test.shape)"
      ],
      "execution_count": null,
      "outputs": [
        {
          "output_type": "stream",
          "text": [
            "Shape of X_train is  (50000, 3072)\n",
            "Shape of y_train is  (50000,)\n",
            "Shape of X_test is  (10000, 3072)\n",
            "Shape of y_test is  (10000,)\n"
          ],
          "name": "stdout"
        }
      ]
    },
    {
      "cell_type": "code",
      "metadata": {
        "id": "J34F6n2Xf3UA"
      },
      "source": [
        "# plotting a sample example\n",
        "def plot_image(n):\n",
        "  img = X_train.iloc[n].to_numpy()\n",
        "  label = y_train.iloc[n]\n",
        "  name = label_names[int(label)]\n",
        "  R = img[0:1024].reshape((32,32))\n",
        "  G = img[1024:2048].reshape((32,32))\n",
        "  B = img[2048:3072].reshape((32,32))\n",
        "  print('Label :',name)\n",
        "  img_array = np.dstack((R,G,B))\n",
        "  plt.imshow(img_array)\n",
        "  plt.show()\n"
      ],
      "execution_count": null,
      "outputs": []
    },
    {
      "cell_type": "code",
      "metadata": {
        "colab": {
          "base_uri": "https://localhost:8080/",
          "height": 284
        },
        "id": "RweBldJHNERk",
        "outputId": "db0009ea-ca16-409d-be7e-e267a1496adb"
      },
      "source": [
        "plot_image(8155)"
      ],
      "execution_count": null,
      "outputs": [
        {
          "output_type": "stream",
          "text": [
            "Label : b'airplane'\n"
          ],
          "name": "stdout"
        },
        {
          "output_type": "display_data",
          "data": {
            "image/png": "[encoded data removed]",
            "text/plain": [
              "<Figure size 432x288 with 1 Axes>"
            ]
          },
          "metadata": {
            "tags": [],
            "needs_background": "light"
          }
        }
      ]
    },
    {
      "cell_type": "markdown",
      "metadata": {
        "id": "EDXbzATj0P6l",
        "outputId": "9dfe9055-f10a-4600-e48d-7676e9b834c0"
      },
      "source": [
        "Models without Using Principal Component Analysis"
      ]
    },
    {
      "cell_type": "markdown",
      "metadata": {
        "id": "BUeVjPxsNERl"
      },
      "source": [
        "Naive Bayes Classifier\n"
      ]
    },
    {
      "cell_type": "code",
      "metadata": {
        "colab": {
          "base_uri": "https://localhost:8080/"
        },
        "id": "DMQ3N0TvNERl",
        "outputId": "6f743344-494f-45af-9f5d-c096a97829f8"
      },
      "source": [
        "# Building and training model\n",
        "\n",
        "model1 = GaussianNB()\n",
        "model1.fit(X_train,y_train)"
      ],
      "execution_count": null,
      "outputs": [
        {
          "output_type": "execute_result",
          "data": {
            "text/plain": [
              "GaussianNB(priors=None, var_smoothing=1e-09)"
            ]
          },
          "metadata": {
            "tags": []
          },
          "execution_count": 12
        }
      ]
    },
    {
      "cell_type": "code",
      "metadata": {
        "id": "k9GcfWoXJF_g"
      },
      "source": [
        "# Prediction on test data\n",
        "\n",
        "model1_pred = model1.predict(X_test)"
      ],
      "execution_count": null,
      "outputs": []
    },
    {
      "cell_type": "code",
      "metadata": {
        "colab": {
          "base_uri": "https://localhost:8080/"
        },
        "id": "fxKJQbIAbiiX",
        "outputId": "75c91bc3-540d-46fe-d6a0-9af1e992bc11"
      },
      "source": [
        "# Cross validation and accuacy score\n",
        "\n",
        "print(\"Model accuracy on test set:\", model1.score(X_test, y_test) * 100)\n",
        "print(\"Cross-validation score on test data : \", np.mean(cross_val_score(model1, X_test, y_test, cv=5)) * 100)"
      ],
      "execution_count": null,
      "outputs": [
        {
          "output_type": "stream",
          "text": [
            "Model accuracy on test set: 29.759999999999998\n",
            "Cross-validation score on test data :  29.25\n"
          ],
          "name": "stdout"
        }
      ]
    },
    {
      "cell_type": "code",
      "metadata": {
        "colab": {
          "base_uri": "https://localhost:8080/"
        },
        "id": "mvPW_61wJGC1",
        "outputId": "6b7d63c4-3f09-4a66-8538-73d965586f54"
      },
      "source": [
        "# classification report \n",
        "\n",
        "print('calssification report of Naive Bayes:\\n------------------------------------')\n",
        "print(classification_report(y_test,model1_pred))"
      ],
      "execution_count": null,
      "outputs": [
        {
          "output_type": "stream",
          "text": [
            "calssification report of Naive Bayes:\n",
            "------------------------------------\n",
            "              precision    recall  f1-score   support\n",
            "\n",
            "           0       0.27      0.49      0.35      1000\n",
            "           1       0.41      0.17      0.24      1000\n",
            "           2       0.19      0.08      0.12      1000\n",
            "           3       0.25      0.08      0.12      1000\n",
            "           4       0.24      0.42      0.30      1000\n",
            "           5       0.31      0.26      0.29      1000\n",
            "           6       0.25      0.47      0.33      1000\n",
            "           7       0.42      0.13      0.20      1000\n",
            "           8       0.39      0.47      0.42      1000\n",
            "           9       0.38      0.41      0.39      1000\n",
            "\n",
            "    accuracy                           0.30     10000\n",
            "   macro avg       0.31      0.30      0.28     10000\n",
            "weighted avg       0.31      0.30      0.28     10000\n",
            "\n"
          ],
          "name": "stdout"
        }
      ]
    },
    {
      "cell_type": "markdown",
      "metadata": {
        "id": "MRwvk7JTNERo"
      },
      "source": [
        "Logistic Regression Classifier"
      ]
    },
    {
      "cell_type": "code",
      "metadata": {
        "id": "AuFmw7RRNERo",
        "colab": {
          "base_uri": "https://localhost:8080/"
        },
        "outputId": "111b674e-b5c0-45b9-c86d-3c7376b59128"
      },
      "source": [
        "# Building and training model\n",
        "\n",
        "model2 = LogisticRegression()\n",
        "model2.fit(X_train, y_train)"
      ],
      "execution_count": null,
      "outputs": [
        {
          "output_type": "stream",
          "text": [
            "/usr/local/lib/python3.7/dist-packages/sklearn/linear_model/_logistic.py:940: ConvergenceWarning: lbfgs failed to converge (status=1):\n",
            "STOP: TOTAL NO. of ITERATIONS REACHED LIMIT.\n",
            "\n",
            "Increase the number of iterations (max_iter) or scale the data as shown in:\n",
            "    https://scikit-learn.org/stable/modules/preprocessing.html\n",
            "Please also refer to the documentation for alternative solver options:\n",
            "    https://scikit-learn.org/stable/modules/linear_model.html#logistic-regression\n",
            "  extra_warning_msg=_LOGISTIC_SOLVER_CONVERGENCE_MSG)\n"
          ],
          "name": "stderr"
        },
        {
          "output_type": "execute_result",
          "data": {
            "text/plain": [
              "LogisticRegression(C=1.0, class_weight=None, dual=False, fit_intercept=True,\n",
              "                   intercept_scaling=1, l1_ratio=None, max_iter=100,\n",
              "                   multi_class='auto', n_jobs=None, penalty='l2',\n",
              "                   random_state=None, solver='lbfgs', tol=0.0001, verbose=0,\n",
              "                   warm_start=False)"
            ]
          },
          "metadata": {
            "tags": []
          },
          "execution_count": 16
        }
      ]
    },
    {
      "cell_type": "code",
      "metadata": {
        "id": "tvF6gnMYNERp"
      },
      "source": [
        "# prediction on test data\n",
        "\n",
        "model2_pred = model2.predict(X_test)"
      ],
      "execution_count": null,
      "outputs": []
    },
    {
      "cell_type": "code",
      "metadata": {
        "id": "AYeeEAF5bTxo",
        "colab": {
          "base_uri": "https://localhost:8080/"
        },
        "outputId": "97638f94-3b02-4cba-f807-0dbac947598a"
      },
      "source": [
        "# Cross validation  and accuacy score\n",
        "\n",
        "print(\"Model accuracy on test set:\", model2.score(X_test, y_test) * 100)\n",
        "print(\"Cross-validation score on test data : \", np.mean(cross_val_score(model2, X_test, y_test, cv=5)) * 100)"
      ],
      "execution_count": null,
      "outputs": [
        {
          "output_type": "stream",
          "text": [
            "Model accuracy on test set: 40.239999999999995\n"
          ],
          "name": "stdout"
        },
        {
          "output_type": "stream",
          "text": [
            "/usr/local/lib/python3.7/dist-packages/sklearn/linear_model/_logistic.py:940: ConvergenceWarning: lbfgs failed to converge (status=1):\n",
            "STOP: TOTAL NO. of ITERATIONS REACHED LIMIT.\n",
            "\n",
            "Increase the number of iterations (max_iter) or scale the data as shown in:\n",
            "    https://scikit-learn.org/stable/modules/preprocessing.html\n",
            "Please also refer to the documentation for alternative solver options:\n",
            "    https://scikit-learn.org/stable/modules/linear_model.html#logistic-regression\n",
            "  extra_warning_msg=_LOGISTIC_SOLVER_CONVERGENCE_MSG)\n",
            "/usr/local/lib/python3.7/dist-packages/sklearn/linear_model/_logistic.py:940: ConvergenceWarning: lbfgs failed to converge (status=1):\n",
            "STOP: TOTAL NO. of ITERATIONS REACHED LIMIT.\n",
            "\n",
            "Increase the number of iterations (max_iter) or scale the data as shown in:\n",
            "    https://scikit-learn.org/stable/modules/preprocessing.html\n",
            "Please also refer to the documentation for alternative solver options:\n",
            "    https://scikit-learn.org/stable/modules/linear_model.html#logistic-regression\n",
            "  extra_warning_msg=_LOGISTIC_SOLVER_CONVERGENCE_MSG)\n",
            "/usr/local/lib/python3.7/dist-packages/sklearn/linear_model/_logistic.py:940: ConvergenceWarning: lbfgs failed to converge (status=1):\n",
            "STOP: TOTAL NO. of ITERATIONS REACHED LIMIT.\n",
            "\n",
            "Increase the number of iterations (max_iter) or scale the data as shown in:\n",
            "    https://scikit-learn.org/stable/modules/preprocessing.html\n",
            "Please also refer to the documentation for alternative solver options:\n",
            "    https://scikit-learn.org/stable/modules/linear_model.html#logistic-regression\n",
            "  extra_warning_msg=_LOGISTIC_SOLVER_CONVERGENCE_MSG)\n",
            "/usr/local/lib/python3.7/dist-packages/sklearn/linear_model/_logistic.py:940: ConvergenceWarning: lbfgs failed to converge (status=1):\n",
            "STOP: TOTAL NO. of ITERATIONS REACHED LIMIT.\n",
            "\n",
            "Increase the number of iterations (max_iter) or scale the data as shown in:\n",
            "    https://scikit-learn.org/stable/modules/preprocessing.html\n",
            "Please also refer to the documentation for alternative solver options:\n",
            "    https://scikit-learn.org/stable/modules/linear_model.html#logistic-regression\n",
            "  extra_warning_msg=_LOGISTIC_SOLVER_CONVERGENCE_MSG)\n"
          ],
          "name": "stderr"
        },
        {
          "output_type": "stream",
          "text": [
            "Cross-validation score on test data :  37.09\n"
          ],
          "name": "stdout"
        },
        {
          "output_type": "stream",
          "text": [
            "/usr/local/lib/python3.7/dist-packages/sklearn/linear_model/_logistic.py:940: ConvergenceWarning: lbfgs failed to converge (status=1):\n",
            "STOP: TOTAL NO. of ITERATIONS REACHED LIMIT.\n",
            "\n",
            "Increase the number of iterations (max_iter) or scale the data as shown in:\n",
            "    https://scikit-learn.org/stable/modules/preprocessing.html\n",
            "Please also refer to the documentation for alternative solver options:\n",
            "    https://scikit-learn.org/stable/modules/linear_model.html#logistic-regression\n",
            "  extra_warning_msg=_LOGISTIC_SOLVER_CONVERGENCE_MSG)\n"
          ],
          "name": "stderr"
        }
      ]
    },
    {
      "cell_type": "code",
      "metadata": {
        "id": "-VckqWljNERp",
        "colab": {
          "base_uri": "https://localhost:8080/"
        },
        "outputId": "07c4ee8b-a74f-425c-9161-a86e064d5872"
      },
      "source": [
        "# classification report\n",
        "\n",
        "print(\"Classification report of Logistic Regression:\\n-------------------------------------------\")\n",
        "print(classification_report(y_test, model2_pred))"
      ],
      "execution_count": null,
      "outputs": [
        {
          "output_type": "stream",
          "text": [
            "Classification report of Logistic Regression:\n",
            "-------------------------------------------\n",
            "              precision    recall  f1-score   support\n",
            "\n",
            "           0       0.42      0.48      0.45      1000\n",
            "           1       0.46      0.49      0.47      1000\n",
            "           2       0.33      0.27      0.30      1000\n",
            "           3       0.31      0.26      0.28      1000\n",
            "           4       0.36      0.29      0.32      1000\n",
            "           5       0.33      0.34      0.34      1000\n",
            "           6       0.43      0.48      0.46      1000\n",
            "           7       0.45      0.44      0.45      1000\n",
            "           8       0.46      0.52      0.49      1000\n",
            "           9       0.42      0.45      0.43      1000\n",
            "\n",
            "    accuracy                           0.40     10000\n",
            "   macro avg       0.40      0.40      0.40     10000\n",
            "weighted avg       0.40      0.40      0.40     10000\n",
            "\n"
          ],
          "name": "stdout"
        }
      ]
    },
    {
      "cell_type": "markdown",
      "metadata": {
        "id": "QmFwW6okaQ6t"
      },
      "source": [
        "Using Random Forest Classifier"
      ]
    },
    {
      "cell_type": "code",
      "metadata": {
        "colab": {
          "base_uri": "https://localhost:8080/"
        },
        "id": "zrzpWAfXaPls",
        "outputId": "306c3b0b-f0ce-48eb-b1f0-c4cc8506ea46"
      },
      "source": [
        "# Building and training of model\n",
        "\n",
        "model3 = RandomForestClassifier(n_estimators=100)\n",
        "model3.fit(X_train,y_train)"
      ],
      "execution_count": null,
      "outputs": [
        {
          "output_type": "execute_result",
          "data": {
            "text/plain": [
              "RandomForestClassifier(bootstrap=True, ccp_alpha=0.0, class_weight=None,\n",
              "                       criterion='gini', max_depth=None, max_features='auto',\n",
              "                       max_leaf_nodes=None, max_samples=None,\n",
              "                       min_impurity_decrease=0.0, min_impurity_split=None,\n",
              "                       min_samples_leaf=1, min_samples_split=2,\n",
              "                       min_weight_fraction_leaf=0.0, n_estimators=100,\n",
              "                       n_jobs=None, oob_score=False, random_state=None,\n",
              "                       verbose=0, warm_start=False)"
            ]
          },
          "metadata": {
            "tags": []
          },
          "execution_count": 20
        }
      ]
    },
    {
      "cell_type": "code",
      "metadata": {
        "id": "zKOzzmLPafWk"
      },
      "source": [
        "# prediction on test data\n",
        "\n",
        "model3_pred = model3.predict(X_test)"
      ],
      "execution_count": null,
      "outputs": []
    },
    {
      "cell_type": "code",
      "metadata": {
        "colab": {
          "base_uri": "https://localhost:8080/"
        },
        "id": "Ro6m_wFpa1P9",
        "outputId": "aae2b909-4e71-41b8-f872-24effa803a7b"
      },
      "source": [
        "# Cross validation  and accuacy score\n",
        "\n",
        "print(\"Model accuracy on test set:\", model3.score(X_test, y_test) * 100)\n",
        "print(\"Cross-validation score on test data : \", np.mean(cross_val_score(model3, X_test, y_test, cv=5)) * 100)"
      ],
      "execution_count": null,
      "outputs": [
        {
          "output_type": "stream",
          "text": [
            "Model accuracy on test set: 46.81\n",
            "Cross-validation score on test data :  41.459999999999994\n"
          ],
          "name": "stdout"
        }
      ]
    },
    {
      "cell_type": "code",
      "metadata": {
        "colab": {
          "base_uri": "https://localhost:8080/"
        },
        "id": "piTU6pRYafZJ",
        "outputId": "0bb6d4ee-4ae0-4d93-b779-f03d72e02264"
      },
      "source": [
        "#Classification Report\n",
        "\n",
        "print(\"Classification report of Random Forest :\\n------------------------- \")\n",
        "print(classification_report(y_test,model3_pred))"
      ],
      "execution_count": null,
      "outputs": [
        {
          "output_type": "stream",
          "text": [
            "Classification report of Random Forest :\n",
            "------------------------- \n",
            "              precision    recall  f1-score   support\n",
            "\n",
            "           0       0.54      0.57      0.55      1000\n",
            "           1       0.53      0.55      0.54      1000\n",
            "           2       0.38      0.34      0.36      1000\n",
            "           3       0.33      0.26      0.29      1000\n",
            "           4       0.40      0.39      0.39      1000\n",
            "           5       0.41      0.38      0.40      1000\n",
            "           6       0.48      0.57      0.52      1000\n",
            "           7       0.51      0.46      0.48      1000\n",
            "           8       0.58      0.61      0.60      1000\n",
            "           9       0.48      0.55      0.51      1000\n",
            "\n",
            "    accuracy                           0.47     10000\n",
            "   macro avg       0.46      0.47      0.46     10000\n",
            "weighted avg       0.46      0.47      0.46     10000\n",
            "\n"
          ],
          "name": "stdout"
        }
      ]
    },
    {
      "cell_type": "markdown",
      "metadata": {
        "id": "TRkjzDJVhSmQ"
      },
      "source": [
        "Using LDA classifier\n"
      ]
    },
    {
      "cell_type": "code",
      "metadata": {
        "colab": {
          "base_uri": "https://localhost:8080/"
        },
        "id": "IcOmRVnbhSWb",
        "outputId": "c86e4869-8da3-4288-c5e5-544c9a40cd84"
      },
      "source": [
        "# Building and training model\n",
        "\n",
        "model4 = LinearDiscriminantAnalysis()\n",
        "model4.fit(X_train,y_train)"
      ],
      "execution_count": null,
      "outputs": [
        {
          "output_type": "execute_result",
          "data": {
            "text/plain": [
              "LinearDiscriminantAnalysis(n_components=None, priors=None, shrinkage=None,\n",
              "                           solver='svd', store_covariance=False, tol=0.0001)"
            ]
          },
          "metadata": {
            "tags": []
          },
          "execution_count": 24
        }
      ]
    },
    {
      "cell_type": "code",
      "metadata": {
        "id": "3eI-oJ2FhENc"
      },
      "source": [
        "# Prediction on test data\n",
        "\n",
        "model4_pred = model4.predict(X_test)"
      ],
      "execution_count": null,
      "outputs": []
    },
    {
      "cell_type": "code",
      "metadata": {
        "colab": {
          "base_uri": "https://localhost:8080/"
        },
        "id": "d1iJtsK-hEHH",
        "outputId": "73c43e3d-223d-4235-c1e9-199d7489b4d6"
      },
      "source": [
        "# Cross validation and accuacy score\n",
        "\n",
        "print(\"Model accuracy on test set:\", model4.score(X_test, y_test) * 100)\n",
        "print(\"Cross-validation score on test data : \", np.mean(cross_val_score(model4, X_test, y_test, cv=5)) * 100)"
      ],
      "execution_count": null,
      "outputs": [
        {
          "output_type": "stream",
          "text": [
            "Model accuracy on test set: 37.13\n",
            "Cross-validation score on test data :  24.349999999999998\n"
          ],
          "name": "stdout"
        }
      ]
    },
    {
      "cell_type": "code",
      "metadata": {
        "colab": {
          "base_uri": "https://localhost:8080/"
        },
        "id": "N6GyFUk7hEJ8",
        "outputId": "73fb2d18-ed48-4db0-e635-2489d531287f"
      },
      "source": [
        "#Classification Report\n",
        "\n",
        "print(\"Classification report of LDA :\\n------------------------- \")\n",
        "print(classification_report(y_test,model4_pred))"
      ],
      "execution_count": null,
      "outputs": [
        {
          "output_type": "stream",
          "text": [
            "Classification report of LDA :\n",
            "------------------------- \n",
            "              precision    recall  f1-score   support\n",
            "\n",
            "           0       0.43      0.46      0.45      1000\n",
            "           1       0.43      0.41      0.42      1000\n",
            "           2       0.26      0.26      0.26      1000\n",
            "           3       0.25      0.24      0.25      1000\n",
            "           4       0.32      0.27      0.29      1000\n",
            "           5       0.30      0.33      0.31      1000\n",
            "           6       0.38      0.41      0.40      1000\n",
            "           7       0.44      0.40      0.42      1000\n",
            "           8       0.47      0.49      0.48      1000\n",
            "           9       0.42      0.42      0.42      1000\n",
            "\n",
            "    accuracy                           0.37     10000\n",
            "   macro avg       0.37      0.37      0.37     10000\n",
            "weighted avg       0.37      0.37      0.37     10000\n",
            "\n"
          ],
          "name": "stdout"
        }
      ]
    },
    {
      "cell_type": "markdown",
      "metadata": {
        "id": "zbWZQaRJNERx"
      },
      "source": [
        "Next we will train all these models after applying Principal Component Analysis and will use them to predict the classes. In order to use PCA, it is important to standardize the dataset.\n"
      ]
    },
    {
      "cell_type": "markdown",
      "metadata": {
        "id": "ZnwQxsXX3A1p"
      },
      "source": [
        "Using Standard Scaler to Standardize data"
      ]
    },
    {
      "cell_type": "code",
      "metadata": {
        "id": "thbLebWM3Jgo"
      },
      "source": [
        "scaler = StandardScaler()\n",
        "\n",
        "x_train = scaler.fit_transform(X_train)\n",
        "x_test  = scaler.transform(X_test)\n"
      ],
      "execution_count": null,
      "outputs": []
    },
    {
      "cell_type": "markdown",
      "metadata": {
        "id": "2pe8EoMehoIN"
      },
      "source": [
        "Applying Pricipal Component Analysis (PCA)"
      ]
    },
    {
      "cell_type": "code",
      "metadata": {
        "id": "-IqE2i9lh4wt",
        "colab": {
          "base_uri": "https://localhost:8080/"
        },
        "outputId": "47480bcb-2351-429e-85ae-873da8690ef5"
      },
      "source": [
        "pca = PCA ()\n",
        "pca.fit_transform(x_train)"
      ],
      "execution_count": null,
      "outputs": [
        {
          "output_type": "execute_result",
          "data": {
            "text/plain": [
              "array([[-2.20557381e+01,  1.22849042e+01,  8.96135095e+00, ...,\n",
              "         5.39089318e-03,  5.58180986e-04, -2.60774472e-03],\n",
              "       [ 4.01354905e+00, -5.04915634e+00,  2.53958923e+01, ...,\n",
              "        -1.20631185e-03, -1.55110611e-03,  4.72296446e-03],\n",
              "       [ 2.11123034e+01, -4.76871967e+01, -1.25735508e+01, ...,\n",
              "        -1.95641086e-03, -1.98150370e-03,  1.93502441e-03],\n",
              "       ...,\n",
              "       [-5.79011324e+00, -4.49244141e+01, -4.24725698e+00, ...,\n",
              "         5.51117587e-03, -5.06192238e-03,  1.70515002e-03],\n",
              "       [ 4.23917856e+01, -1.65511813e+01,  2.22660304e+01, ...,\n",
              "        -1.11556537e-03, -1.43552607e-03,  6.52224660e-03],\n",
              "       [ 1.30753871e+01, -3.19221852e+00, -1.73174907e+01, ...,\n",
              "        -2.31232834e-03,  2.07327476e-03,  1.24354774e-03]])"
            ]
          },
          "metadata": {
            "tags": []
          },
          "execution_count": 29
        }
      ]
    },
    {
      "cell_type": "code",
      "metadata": {
        "id": "GS8H3fqNjO-T",
        "colab": {
          "base_uri": "https://localhost:8080/"
        },
        "outputId": "2746cea5-1128-4eb0-c98f-9b05d7138c56"
      },
      "source": [
        "pca.explained_variance_.shape"
      ],
      "execution_count": null,
      "outputs": [
        {
          "output_type": "execute_result",
          "data": {
            "text/plain": [
              "(3072,)"
            ]
          },
          "metadata": {
            "tags": []
          },
          "execution_count": 30
        }
      ]
    },
    {
      "cell_type": "code",
      "metadata": {
        "id": "wNaed9jij58R",
        "colab": {
          "base_uri": "https://localhost:8080/"
        },
        "outputId": "faa7f15f-8789-4d65-e622-8c11978e9e67"
      },
      "source": [
        "#finding value of n_components for 95% variance\n",
        "\n",
        "k = 0\n",
        "total = sum(pca.explained_variance_)\n",
        "current_sum = 0\n",
        "\n",
        "while(current_sum / total < 0.95):\n",
        "    current_sum += pca.explained_variance_[k]\n",
        "    k += 1\n",
        "\n",
        "print(\"Number of components required to have 95% varaince = \",k)  "
      ],
      "execution_count": null,
      "outputs": [
        {
          "output_type": "stream",
          "text": [
            "Number of components required to have 95% varaince =  221\n"
          ],
          "name": "stdout"
        }
      ]
    },
    {
      "cell_type": "code",
      "metadata": {
        "id": "0UpRgY9VkkcM"
      },
      "source": [
        "# Now Applying PCA with caluclated value of n_components\n",
        "\n",
        "pca_final = PCA(n_components= k)\n",
        "\n",
        "x_train_final = pca_final.fit_transform(x_train)\n",
        "x_test_final  = pca_final.transform(x_test)"
      ],
      "execution_count": null,
      "outputs": []
    },
    {
      "cell_type": "markdown",
      "metadata": {
        "id": "EsHFGUzil0a8"
      },
      "source": [
        "Prediction Using Naive Bayes Classifier\n",
        "\n"
      ]
    },
    {
      "cell_type": "code",
      "metadata": {
        "id": "QGorgvRAmBq1",
        "colab": {
          "base_uri": "https://localhost:8080/"
        },
        "outputId": "ec8c0a1f-944c-4611-f28c-36b9d7afc3ce"
      },
      "source": [
        "# Building and training of model\n",
        "\n",
        "nb = GaussianNB()\n",
        "nb.fit(x_train_final,y_train)"
      ],
      "execution_count": null,
      "outputs": [
        {
          "output_type": "execute_result",
          "data": {
            "text/plain": [
              "GaussianNB(priors=None, var_smoothing=1e-09)"
            ]
          },
          "metadata": {
            "tags": []
          },
          "execution_count": 33
        }
      ]
    },
    {
      "cell_type": "code",
      "metadata": {
        "id": "eV00Jpyem0eB"
      },
      "source": [
        "# Predicting on test data\n",
        "\n",
        "nb_pred = nb.predict(x_test_final)"
      ],
      "execution_count": null,
      "outputs": []
    },
    {
      "cell_type": "code",
      "metadata": {
        "colab": {
          "base_uri": "https://localhost:8080/"
        },
        "id": "2BJH8Pd8cozb",
        "outputId": "3aa6d86e-7bbd-4719-88e2-7d505c5a4a85"
      },
      "source": [
        "# Cross validation  and accuacy score\n",
        "\n",
        "print(\"Model accuracy on test set:\", nb.score(x_test_final, y_test) * 100)\n",
        "print(\"Cross-validation score on test data : \", np.mean(cross_val_score(nb, x_test_final, y_test, cv=5)) * 100)"
      ],
      "execution_count": null,
      "outputs": [
        {
          "output_type": "stream",
          "text": [
            "Model accuracy on test set: 30.4\n",
            "Cross-validation score on test data :  30.130000000000003\n"
          ],
          "name": "stdout"
        }
      ]
    },
    {
      "cell_type": "code",
      "metadata": {
        "id": "n_hGpcc8nYzX",
        "colab": {
          "base_uri": "https://localhost:8080/"
        },
        "outputId": "7a43fe69-51e0-4089-eee7-e57dc4f6979b"
      },
      "source": [
        "# Classification report of Naive Bayes classifier\n",
        "\n",
        "print(\"classification report of K Naive Bayes classifier:\\n----------------------------------------\")\n",
        "print(classification_report(y_test,nb_pred))"
      ],
      "execution_count": null,
      "outputs": [
        {
          "output_type": "stream",
          "text": [
            "classification report of K Naive Bayes classifier:\n",
            "----------------------------------------\n",
            "              precision    recall  f1-score   support\n",
            "\n",
            "           0       0.32      0.14      0.20      1000\n",
            "           1       0.39      0.46      0.42      1000\n",
            "           2       0.24      0.13      0.17      1000\n",
            "           3       0.25      0.16      0.19      1000\n",
            "           4       0.21      0.62      0.32      1000\n",
            "           5       0.36      0.19      0.25      1000\n",
            "           6       0.46      0.26      0.34      1000\n",
            "           7       0.40      0.30      0.34      1000\n",
            "           8       0.37      0.33      0.35      1000\n",
            "           9       0.29      0.45      0.35      1000\n",
            "\n",
            "    accuracy                           0.30     10000\n",
            "   macro avg       0.33      0.30      0.29     10000\n",
            "weighted avg       0.33      0.30      0.29     10000\n",
            "\n"
          ],
          "name": "stdout"
        }
      ]
    },
    {
      "cell_type": "markdown",
      "metadata": {
        "id": "b8umcsFgrOib"
      },
      "source": [
        "Prediction Using Logistic Regression\n"
      ]
    },
    {
      "cell_type": "code",
      "metadata": {
        "id": "ZymDf5E1rW6G",
        "colab": {
          "base_uri": "https://localhost:8080/"
        },
        "outputId": "0afe0beb-11f7-4033-8b58-a55ce4f7d5e0"
      },
      "source": [
        "# Building and training of model\n",
        "\n",
        "lr = LogisticRegression()\n",
        "lr.fit(x_train_final, y_train)"
      ],
      "execution_count": null,
      "outputs": [
        {
          "output_type": "stream",
          "text": [
            "/usr/local/lib/python3.7/dist-packages/sklearn/linear_model/_logistic.py:940: ConvergenceWarning: lbfgs failed to converge (status=1):\n",
            "STOP: TOTAL NO. of ITERATIONS REACHED LIMIT.\n",
            "\n",
            "Increase the number of iterations (max_iter) or scale the data as shown in:\n",
            "    https://scikit-learn.org/stable/modules/preprocessing.html\n",
            "Please also refer to the documentation for alternative solver options:\n",
            "    https://scikit-learn.org/stable/modules/linear_model.html#logistic-regression\n",
            "  extra_warning_msg=_LOGISTIC_SOLVER_CONVERGENCE_MSG)\n"
          ],
          "name": "stderr"
        },
        {
          "output_type": "execute_result",
          "data": {
            "text/plain": [
              "LogisticRegression(C=1.0, class_weight=None, dual=False, fit_intercept=True,\n",
              "                   intercept_scaling=1, l1_ratio=None, max_iter=100,\n",
              "                   multi_class='auto', n_jobs=None, penalty='l2',\n",
              "                   random_state=None, solver='lbfgs', tol=0.0001, verbose=0,\n",
              "                   warm_start=False)"
            ]
          },
          "metadata": {
            "tags": []
          },
          "execution_count": 37
        }
      ]
    },
    {
      "cell_type": "code",
      "metadata": {
        "id": "bNnLeCpTsfgC"
      },
      "source": [
        "# Predicting on test data\n",
        "\n",
        "lr_pred = lr.predict(x_test_final)"
      ],
      "execution_count": null,
      "outputs": []
    },
    {
      "cell_type": "code",
      "metadata": {
        "colab": {
          "base_uri": "https://localhost:8080/"
        },
        "id": "bcOiPTlbckHE",
        "outputId": "df036019-ee24-4ef8-9c36-a21210db0bf8"
      },
      "source": [
        "# Cross validation  and accuacy score\n",
        "\n",
        "print(\"Model accuracy on test set:\", lr.score(x_test_final, y_test) * 100)\n",
        "print(\"Cross-validation score on test data : \", np.mean(cross_val_score(lr, x_test_final, y_test, cv=5)) * 100)"
      ],
      "execution_count": null,
      "outputs": [
        {
          "output_type": "stream",
          "text": [
            "Model accuracy on test set: 40.6\n"
          ],
          "name": "stdout"
        },
        {
          "output_type": "stream",
          "text": [
            "/usr/local/lib/python3.7/dist-packages/sklearn/linear_model/_logistic.py:940: ConvergenceWarning: lbfgs failed to converge (status=1):\n",
            "STOP: TOTAL NO. of ITERATIONS REACHED LIMIT.\n",
            "\n",
            "Increase the number of iterations (max_iter) or scale the data as shown in:\n",
            "    https://scikit-learn.org/stable/modules/preprocessing.html\n",
            "Please also refer to the documentation for alternative solver options:\n",
            "    https://scikit-learn.org/stable/modules/linear_model.html#logistic-regression\n",
            "  extra_warning_msg=_LOGISTIC_SOLVER_CONVERGENCE_MSG)\n",
            "/usr/local/lib/python3.7/dist-packages/sklearn/linear_model/_logistic.py:940: ConvergenceWarning: lbfgs failed to converge (status=1):\n",
            "STOP: TOTAL NO. of ITERATIONS REACHED LIMIT.\n",
            "\n",
            "Increase the number of iterations (max_iter) or scale the data as shown in:\n",
            "    https://scikit-learn.org/stable/modules/preprocessing.html\n",
            "Please also refer to the documentation for alternative solver options:\n",
            "    https://scikit-learn.org/stable/modules/linear_model.html#logistic-regression\n",
            "  extra_warning_msg=_LOGISTIC_SOLVER_CONVERGENCE_MSG)\n",
            "/usr/local/lib/python3.7/dist-packages/sklearn/linear_model/_logistic.py:940: ConvergenceWarning: lbfgs failed to converge (status=1):\n",
            "STOP: TOTAL NO. of ITERATIONS REACHED LIMIT.\n",
            "\n",
            "Increase the number of iterations (max_iter) or scale the data as shown in:\n",
            "    https://scikit-learn.org/stable/modules/preprocessing.html\n",
            "Please also refer to the documentation for alternative solver options:\n",
            "    https://scikit-learn.org/stable/modules/linear_model.html#logistic-regression\n",
            "  extra_warning_msg=_LOGISTIC_SOLVER_CONVERGENCE_MSG)\n",
            "/usr/local/lib/python3.7/dist-packages/sklearn/linear_model/_logistic.py:940: ConvergenceWarning: lbfgs failed to converge (status=1):\n",
            "STOP: TOTAL NO. of ITERATIONS REACHED LIMIT.\n",
            "\n",
            "Increase the number of iterations (max_iter) or scale the data as shown in:\n",
            "    https://scikit-learn.org/stable/modules/preprocessing.html\n",
            "Please also refer to the documentation for alternative solver options:\n",
            "    https://scikit-learn.org/stable/modules/linear_model.html#logistic-regression\n",
            "  extra_warning_msg=_LOGISTIC_SOLVER_CONVERGENCE_MSG)\n"
          ],
          "name": "stderr"
        },
        {
          "output_type": "stream",
          "text": [
            "Cross-validation score on test data :  36.980000000000004\n"
          ],
          "name": "stdout"
        },
        {
          "output_type": "stream",
          "text": [
            "/usr/local/lib/python3.7/dist-packages/sklearn/linear_model/_logistic.py:940: ConvergenceWarning: lbfgs failed to converge (status=1):\n",
            "STOP: TOTAL NO. of ITERATIONS REACHED LIMIT.\n",
            "\n",
            "Increase the number of iterations (max_iter) or scale the data as shown in:\n",
            "    https://scikit-learn.org/stable/modules/preprocessing.html\n",
            "Please also refer to the documentation for alternative solver options:\n",
            "    https://scikit-learn.org/stable/modules/linear_model.html#logistic-regression\n",
            "  extra_warning_msg=_LOGISTIC_SOLVER_CONVERGENCE_MSG)\n"
          ],
          "name": "stderr"
        }
      ]
    },
    {
      "cell_type": "code",
      "metadata": {
        "id": "2fDLWvNSsui6",
        "colab": {
          "base_uri": "https://localhost:8080/"
        },
        "outputId": "05d9e9a4-03f9-49b7-e57d-c7b39a7d2cbc"
      },
      "source": [
        "# Classification report of Logistic Regression model\n",
        "\n",
        "print(\"classification report of Logistics Regression:\\n----------------------------------------------\")\n",
        "print(classification_report(y_test,lr_pred))"
      ],
      "execution_count": null,
      "outputs": [
        {
          "output_type": "stream",
          "text": [
            "classification report of Logistics Regression:\n",
            "----------------------------------------------\n",
            "              precision    recall  f1-score   support\n",
            "\n",
            "           0       0.44      0.48      0.46      1000\n",
            "           1       0.45      0.47      0.46      1000\n",
            "           2       0.30      0.26      0.28      1000\n",
            "           3       0.31      0.28      0.29      1000\n",
            "           4       0.37      0.29      0.32      1000\n",
            "           5       0.35      0.34      0.34      1000\n",
            "           6       0.42      0.50      0.46      1000\n",
            "           7       0.45      0.44      0.44      1000\n",
            "           8       0.48      0.53      0.50      1000\n",
            "           9       0.46      0.47      0.46      1000\n",
            "\n",
            "    accuracy                           0.41     10000\n",
            "   macro avg       0.40      0.41      0.40     10000\n",
            "weighted avg       0.40      0.41      0.40     10000\n",
            "\n"
          ],
          "name": "stdout"
        }
      ]
    },
    {
      "cell_type": "markdown",
      "metadata": {
        "id": "YgqxFP8c6CgN"
      },
      "source": [
        "Prediction Using Random Forest Classifier"
      ]
    },
    {
      "cell_type": "code",
      "metadata": {
        "id": "-Q_qWWAE6Gcc",
        "colab": {
          "base_uri": "https://localhost:8080/"
        },
        "outputId": "50e17285-5a6b-4acb-86a9-99074dcea048"
      },
      "source": [
        "# Building and training of model \n",
        "\n",
        "rfc = RandomForestClassifier(n_estimators=100)\n",
        "rfc.fit(x_train_final, y_train)"
      ],
      "execution_count": null,
      "outputs": [
        {
          "output_type": "execute_result",
          "data": {
            "text/plain": [
              "RandomForestClassifier(bootstrap=True, ccp_alpha=0.0, class_weight=None,\n",
              "                       criterion='gini', max_depth=None, max_features='auto',\n",
              "                       max_leaf_nodes=None, max_samples=None,\n",
              "                       min_impurity_decrease=0.0, min_impurity_split=None,\n",
              "                       min_samples_leaf=1, min_samples_split=2,\n",
              "                       min_weight_fraction_leaf=0.0, n_estimators=100,\n",
              "                       n_jobs=None, oob_score=False, random_state=None,\n",
              "                       verbose=0, warm_start=False)"
            ]
          },
          "metadata": {
            "tags": []
          },
          "execution_count": 41
        }
      ]
    },
    {
      "cell_type": "code",
      "metadata": {
        "id": "iNJL-Ib16fsv"
      },
      "source": [
        "# Predicting on test data\n",
        "\n",
        "rfc_pred = rfc.predict(x_test_final)"
      ],
      "execution_count": null,
      "outputs": []
    },
    {
      "cell_type": "code",
      "metadata": {
        "id": "_ssz-42Ucdsr",
        "colab": {
          "base_uri": "https://localhost:8080/"
        },
        "outputId": "0b558dab-92e4-41ce-c6e7-06c1b1926fe0"
      },
      "source": [
        "# Cross validation  and accuacy score\n",
        "\n",
        "print(\"Model accuracy on test set:\", rfc.score(x_test_final, y_test) * 100)\n",
        "print(\"Cross-validation score on test data : \", np.mean(cross_val_score(rfc, x_test_final, y_test, cv=5)) * 100)"
      ],
      "execution_count": null,
      "outputs": [
        {
          "output_type": "stream",
          "text": [
            "Model accuracy on test set: 43.7\n",
            "Cross-validation score on test data :  37.13\n"
          ],
          "name": "stdout"
        }
      ]
    },
    {
      "cell_type": "code",
      "metadata": {
        "id": "cEZM9pvO6vcU",
        "colab": {
          "base_uri": "https://localhost:8080/"
        },
        "outputId": "c671baae-4008-4bc8-8889-fa4d11819192"
      },
      "source": [
        "# Classification report of Random Forest Classifier  \n",
        "\n",
        "print(\"classification report of Random Forest:\\n-------------------------------------\")\n",
        "print(classification_report(y_test,rfc_pred))"
      ],
      "execution_count": null,
      "outputs": [
        {
          "output_type": "stream",
          "text": [
            "classification report of Random Forest:\n",
            "-------------------------------------\n",
            "              precision    recall  f1-score   support\n",
            "\n",
            "           0       0.53      0.54      0.54      1000\n",
            "           1       0.49      0.55      0.52      1000\n",
            "           2       0.33      0.29      0.31      1000\n",
            "           3       0.28      0.24      0.26      1000\n",
            "           4       0.41      0.39      0.40      1000\n",
            "           5       0.36      0.35      0.35      1000\n",
            "           6       0.45      0.51      0.48      1000\n",
            "           7       0.50      0.41      0.45      1000\n",
            "           8       0.53      0.62      0.57      1000\n",
            "           9       0.45      0.48      0.46      1000\n",
            "\n",
            "    accuracy                           0.44     10000\n",
            "   macro avg       0.43      0.44      0.43     10000\n",
            "weighted avg       0.43      0.44      0.43     10000\n",
            "\n"
          ],
          "name": "stdout"
        }
      ]
    },
    {
      "cell_type": "markdown",
      "metadata": {
        "id": "kV1USsIQikEP"
      },
      "source": [
        "Using LDA classifier\n"
      ]
    },
    {
      "cell_type": "code",
      "metadata": {
        "colab": {
          "base_uri": "https://localhost:8080/"
        },
        "id": "8hgfXKSGilh2",
        "outputId": "d64f7606-0646-4e94-9b5e-93d70dab9aa1"
      },
      "source": [
        "# Building and training model\n",
        "\n",
        "lda = LinearDiscriminantAnalysis()\n",
        "lda.fit(x_train_final, y_train)"
      ],
      "execution_count": null,
      "outputs": [
        {
          "output_type": "execute_result",
          "data": {
            "text/plain": [
              "LinearDiscriminantAnalysis(n_components=None, priors=None, shrinkage=None,\n",
              "                           solver='svd', store_covariance=False, tol=0.0001)"
            ]
          },
          "metadata": {
            "tags": []
          },
          "execution_count": 45
        }
      ]
    },
    {
      "cell_type": "code",
      "metadata": {
        "id": "WBoiwEY-ilV_"
      },
      "source": [
        "# Predicting on test data\n",
        "\n",
        "lda_pred = lda.predict(x_test_final)"
      ],
      "execution_count": null,
      "outputs": []
    },
    {
      "cell_type": "code",
      "metadata": {
        "colab": {
          "base_uri": "https://localhost:8080/"
        },
        "id": "lSeHTGK3ilP0",
        "outputId": "32d0ff76-9251-4127-9647-70e6aa47308b"
      },
      "source": [
        "# Cross validation  and accuacy score\n",
        "\n",
        "print(\"Model accuracy on test set:\", lda.score(x_test_final, y_test) * 100)\n",
        "print(\"Cross-validation score on test data : \", np.mean(cross_val_score(lda, x_test_final, y_test, cv=5)) * 100)"
      ],
      "execution_count": null,
      "outputs": [
        {
          "output_type": "stream",
          "text": [
            "Model accuracy on test set: 40.44\n",
            "Cross-validation score on test data :  38.3\n"
          ],
          "name": "stdout"
        }
      ]
    },
    {
      "cell_type": "code",
      "metadata": {
        "colab": {
          "base_uri": "https://localhost:8080/"
        },
        "id": "_1UiK9dSilSF",
        "outputId": "d36adecf-1cc7-4121-deb4-f6ebcf3aaffc"
      },
      "source": [
        "# Classification report of Random Forest Classifier  \n",
        "\n",
        "print(\"classification report of LDA:\\n-------------------------------------\")\n",
        "print(classification_report(y_test,lda_pred))"
      ],
      "execution_count": null,
      "outputs": [
        {
          "output_type": "stream",
          "text": [
            "classification report of LDA:\n",
            "-------------------------------------\n",
            "              precision    recall  f1-score   support\n",
            "\n",
            "           0       0.43      0.48      0.46      1000\n",
            "           1       0.47      0.48      0.47      1000\n",
            "           2       0.30      0.25      0.27      1000\n",
            "           3       0.29      0.28      0.29      1000\n",
            "           4       0.38      0.29      0.33      1000\n",
            "           5       0.36      0.36      0.36      1000\n",
            "           6       0.42      0.50      0.46      1000\n",
            "           7       0.46      0.42      0.44      1000\n",
            "           8       0.47      0.50      0.48      1000\n",
            "           9       0.45      0.47      0.46      1000\n",
            "\n",
            "    accuracy                           0.40     10000\n",
            "   macro avg       0.40      0.40      0.40     10000\n",
            "weighted avg       0.40      0.40      0.40     10000\n",
            "\n"
          ],
          "name": "stdout"
        }
      ]
    },
    {
      "cell_type": "code",
      "metadata": {
        "id": "1q1K-ZQM0xHJ"
      },
      "source": [
        "def plot_test_image(n):\n",
        "  img = X_test.iloc[n].to_numpy()\n",
        "  label = y_test.iloc[n]\n",
        "  name = label_names[int(label)]\n",
        "  R = img[0:1024].reshape((32,32))\n",
        "  G = img[1024:2048].reshape((32,32))\n",
        "  B = img[2048:3072].reshape((32,32))\n",
        "  print('Label :',name)\n",
        "  img_array = np.dstack((R,G,B))\n",
        "  plt.imshow(img_array)\n",
        "  plt.show()"
      ],
      "execution_count": null,
      "outputs": []
    },
    {
      "cell_type": "code",
      "metadata": {
        "id": "WXP0ztcOjnLn",
        "colab": {
          "base_uri": "https://localhost:8080/",
          "height": 301
        },
        "outputId": "e8532fd5-f646-4ec8-8046-8939abe84766"
      },
      "source": [
        "#test on a random image\n",
        "\n",
        "a = 745\n",
        "plot_test_image(a)\n",
        "label_names[model2.predict([X_test.iloc[a]])]"
      ],
      "execution_count": null,
      "outputs": [
        {
          "output_type": "stream",
          "text": [
            "Label : b'horse'\n"
          ],
          "name": "stdout"
        },
        {
          "output_type": "display_data",
          "data": {
            "image/png": "[encoded data removed]",
            "text/plain": [
              "<Figure size 432x288 with 1 Axes>"
            ]
          },
          "metadata": {
            "tags": [],
            "needs_background": "light"
          }
        },
        {
          "output_type": "execute_result",
          "data": {
            "text/plain": [
              "array([b'horse'], dtype='|S10')"
            ]
          },
          "metadata": {
            "tags": []
          },
          "execution_count": 69
        }
      ]
    },
    {
      "cell_type": "code",
      "metadata": {
        "colab": {
          "base_uri": "https://localhost:8080/",
          "height": 301
        },
        "id": "3e2-ivLc0PGH",
        "outputId": "ea50c721-4065-4865-b6be-27c72a801832"
      },
      "source": [
        "a = 3120\n",
        "plot_test_image(a)\n",
        "label_names[model2.predict([X_test.iloc[a]])]"
      ],
      "execution_count": null,
      "outputs": [
        {
          "output_type": "stream",
          "text": [
            "Label : b'deer'\n"
          ],
          "name": "stdout"
        },
        {
          "output_type": "display_data",
          "data": {
            "image/png": "[encoded data removed]",
            "text/plain": [
              "<Figure size 432x288 with 1 Axes>"
            ]
          },
          "metadata": {
            "tags": [],
            "needs_background": "light"
          }
        },
        {
          "output_type": "execute_result",
          "data": {
            "text/plain": [
              "array([b'bird'], dtype='|S10')"
            ]
          },
          "metadata": {
            "tags": []
          },
          "execution_count": 70
        }
      ]
    },
    {
      "cell_type": "code",
      "metadata": {
        "colab": {
          "base_uri": "https://localhost:8080/",
          "height": 301
        },
        "id": "k09kKxEzx0Hy",
        "outputId": "632b053b-4f09-4447-e18e-df8823ecd60b"
      },
      "source": [
        "a = 9856\n",
        "plot_test_image(a)\n",
        "label_names[model2.predict([X_test.iloc[a]])]"
      ],
      "execution_count": null,
      "outputs": [
        {
          "output_type": "stream",
          "text": [
            "Label : b'dog'\n"
          ],
          "name": "stdout"
        },
        {
          "output_type": "display_data",
          "data": {
            "image/png": "[encoded data removed]",
            "text/plain": [
              "<Figure size 432x288 with 1 Axes>"
            ]
          },
          "metadata": {
            "tags": [],
            "needs_background": "light"
          }
        },
        {
          "output_type": "execute_result",
          "data": {
            "text/plain": [
              "array([b'dog'], dtype='|S10')"
            ]
          },
          "metadata": {
            "tags": []
          },
          "execution_count": 71
        }
      ]
    },
    {
      "cell_type": "code",
      "metadata": {
        "id": "E2GiQDnf2qQa"
      },
      "source": [
        ""
      ],
      "execution_count": null,
      "outputs": []
    }
  ]
}